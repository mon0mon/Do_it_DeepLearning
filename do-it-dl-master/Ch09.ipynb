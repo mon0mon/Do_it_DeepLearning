{
 "cells": [
  {
   "cell_type": "markdown",
   "metadata": {},
   "source": [
    "# 9장. 텍스트를 분류합니다"
   ]
  },
  {
   "cell_type": "markdown",
   "metadata": {},
   "source": [
    "이 노트북을 주피터 노트북 뷰어(nbviewer.jupyter.org)로 보거나 구글 코랩(colab.research.google.com)에서 실행할 수 있습니다.\n",
    "\n",
    "<table class=\"tfo-notebook-buttons\" align=\"left\">\n",
    "  <td>\n",
    "    <a target=\"_blank\" href=\"https://nbviewer.jupyter.org/github/rickiepark/do-it-dl/blob/master/Ch09.ipynb\"><img src=\"https://jupyter.org/assets/main-logo.svg\" width=\"28\" />주피터 노트북 뷰어로 보기</a>\n",
    "  </td>\n",
    "  <td>\n",
    "    <a target=\"_blank\" href=\"https://colab.research.google.com/github/rickiepark/do-it-dl/blob/master/Ch09.ipynb\"><img src=\"https://www.tensorflow.org/images/colab_logo_32px.png\" />구글 코랩(Colab)에서 실행하기</a>\n",
    "  </td>\n",
    "</table>"
   ]
  },
  {
   "cell_type": "markdown",
   "metadata": {},
   "source": [
    "이 노트북을 실행하려면 텐서플로 2.0.0-alpha0 버전 이상이 필요합니다."
   ]
  },
  {
   "cell_type": "markdown",
   "metadata": {},
   "source": [
    "## 09-2 순환 신경망을 만듭니다"
   ]
  },
  {
   "cell_type": "code",
   "execution_count": 1,
   "metadata": {},
   "outputs": [],
   "source": [
    "import numpy as np\n",
    "from tensorflow.keras.datasets import imdb"
   ]
  },
  {
   "cell_type": "code",
   "execution_count": 2,
   "metadata": {},
   "outputs": [
    {
     "name": "stderr",
     "output_type": "stream",
     "text": [
      "<__array_function__ internals>:5: VisibleDeprecationWarning: Creating an ndarray from ragged nested sequences (which is a list-or-tuple of lists-or-tuples-or ndarrays with different lengths or shapes) is deprecated. If you meant to do this, you must specify 'dtype=object' when creating the ndarray\n",
      "/usr/local/lib/python3.8/dist-packages/tensorflow/python/keras/datasets/imdb.py:159: VisibleDeprecationWarning: Creating an ndarray from ragged nested sequences (which is a list-or-tuple of lists-or-tuples-or ndarrays with different lengths or shapes) is deprecated. If you meant to do this, you must specify 'dtype=object' when creating the ndarray\n",
      "  x_train, y_train = np.array(xs[:idx]), np.array(labels[:idx])\n",
      "/usr/local/lib/python3.8/dist-packages/tensorflow/python/keras/datasets/imdb.py:160: VisibleDeprecationWarning: Creating an ndarray from ragged nested sequences (which is a list-or-tuple of lists-or-tuples-or ndarrays with different lengths or shapes) is deprecated. If you meant to do this, you must specify 'dtype=object' when creating the ndarray\n",
      "  x_test, y_test = np.array(xs[idx:]), np.array(labels[idx:])\n"
     ]
    }
   ],
   "source": [
    "(x_train_all, y_train_all), (x_test, y_test) = imdb.load_data(skip_top=20, num_words=100)"
   ]
  },
  {
   "cell_type": "code",
   "execution_count": 3,
   "metadata": {},
   "outputs": [
    {
     "name": "stdout",
     "output_type": "stream",
     "text": [
      "[2, 2, 22, 2, 43, 2, 2, 2, 2, 65, 2, 2, 66, 2, 2, 2, 36, 2, 2, 25, 2, 43, 2, 2, 50, 2, 2, 2, 35, 2, 2, 2, 2, 2, 2, 2, 2, 2, 2, 2, 39, 2, 2, 2, 2, 2, 2, 38, 2, 2, 2, 2, 50, 2, 2, 2, 2, 2, 2, 22, 2, 2, 2, 2, 2, 22, 71, 87, 2, 2, 43, 2, 38, 76, 2, 2, 2, 2, 22, 2, 2, 2, 2, 2, 2, 2, 2, 2, 62, 2, 2, 2, 2, 2, 2, 2, 2, 2, 2, 2, 2, 66, 2, 33, 2, 2, 2, 2, 38, 2, 2, 25, 2, 51, 36, 2, 48, 25, 2, 33, 2, 22, 2, 2, 28, 77, 52, 2, 2, 2, 2, 82, 2, 2, 2, 2, 2, 2, 2, 2, 2, 2, 2, 2, 2, 2, 36, 71, 43, 2, 2, 26, 2, 2, 46, 2, 2, 2, 2, 2, 2, 88, 2, 2, 2, 2, 98, 32, 2, 56, 26, 2, 2, 2, 2, 2, 2, 2, 22, 21, 2, 2, 26, 2, 2, 2, 30, 2, 2, 51, 36, 28, 2, 92, 25, 2, 2, 2, 65, 2, 38, 2, 88, 2, 2, 2, 2, 2, 2, 2, 2, 32, 2, 2, 2, 2, 2, 32]\n"
     ]
    }
   ],
   "source": [
    "print(x_train_all[0])"
   ]
  },
  {
   "cell_type": "code",
   "execution_count": 4,
   "metadata": {},
   "outputs": [
    {
     "name": "stdout",
     "output_type": "stream",
     "text": [
      "[22, 43, 65, 66, 36, 25, 43, 50, 35, 39, 38, 50, 22, 22, 71, 87, 43, 38, 76, 22, 62, 66, 33, 38, 25, 51, 36, 48, 25, 33, 22, 28, 77, 52, 82, 36, 71, 43, 26, 46, 88, 98, 32, 56, 26, 22, 21, 26, 30, 51, 36, 28, 92, 25, 65, 38, 88, 32, 32]\n"
     ]
    }
   ],
   "source": [
    "for i in range(len(x_train_all)):\n",
    "    x_train_all[i] = [w for w in x_train_all[i] if w > 2]\n",
    "\n",
    "print(x_train_all[0])"
   ]
  },
  {
   "cell_type": "code",
   "execution_count": 5,
   "metadata": {},
   "outputs": [
    {
     "data": {
      "text/plain": [
       "17"
      ]
     },
     "execution_count": 5,
     "metadata": {},
     "output_type": "execute_result"
    }
   ],
   "source": [
    "word_to_index = imdb.get_word_index()\n",
    "\n",
    "word_to_index['movie']"
   ]
  },
  {
   "cell_type": "code",
   "execution_count": 6,
   "metadata": {},
   "outputs": [
    {
     "name": "stdout",
     "output_type": "stream",
     "text": [
      "film just story really they you just there an from so there film film were great just so much film would really at so you what they if you at film have been good also they were just are out because them all up are film but are be what they have don't you story so because all all "
     ]
    }
   ],
   "source": [
    "index_to_word = {word_to_index[k]: k for k in word_to_index}\n",
    "\n",
    "for w in x_train_all[0]:\n",
    "    print(index_to_word[w - 3], end=' ')"
   ]
  },
  {
   "cell_type": "code",
   "execution_count": 7,
   "metadata": {},
   "outputs": [
    {
     "name": "stdout",
     "output_type": "stream",
     "text": [
      "(25000,) (25000,)\n"
     ]
    }
   ],
   "source": [
    "print(x_train_all.shape, y_train_all.shape)"
   ]
  },
  {
   "cell_type": "code",
   "execution_count": 8,
   "metadata": {},
   "outputs": [
    {
     "name": "stdout",
     "output_type": "stream",
     "text": [
      "59 32\n"
     ]
    }
   ],
   "source": [
    "print(len(x_train_all[0]), len(x_train_all[1]))"
   ]
  },
  {
   "cell_type": "code",
   "execution_count": 9,
   "metadata": {},
   "outputs": [
    {
     "name": "stdout",
     "output_type": "stream",
     "text": [
      "[1 0 0 1 0 0 1 0 1 0]\n"
     ]
    }
   ],
   "source": [
    "print(y_train_all[:10])"
   ]
  },
  {
   "cell_type": "code",
   "execution_count": 10,
   "metadata": {},
   "outputs": [],
   "source": [
    "np.random.seed(42)\n",
    "random_index = np.random.permutation(25000)\n",
    "\n",
    "x_train = x_train_all[random_index[:20000]]\n",
    "y_train = y_train_all[random_index[:20000]]\n",
    "x_val = x_train_all[random_index[20000:]]\n",
    "y_val = y_train_all[random_index[20000:]]"
   ]
  },
  {
   "cell_type": "code",
   "execution_count": 11,
   "metadata": {},
   "outputs": [],
   "source": [
    "from tensorflow.keras.preprocessing import sequence\n",
    "\n",
    "maxlen=100\n",
    "x_train_seq = sequence.pad_sequences(x_train, maxlen=maxlen)\n",
    "x_val_seq = sequence.pad_sequences(x_val, maxlen=maxlen)"
   ]
  },
  {
   "cell_type": "code",
   "execution_count": 12,
   "metadata": {},
   "outputs": [
    {
     "name": "stdout",
     "output_type": "stream",
     "text": [
      "(20000, 100) (5000, 100)\n"
     ]
    }
   ],
   "source": [
    "print(x_train_seq.shape, x_val_seq.shape)"
   ]
  },
  {
   "cell_type": "code",
   "execution_count": 13,
   "metadata": {},
   "outputs": [
    {
     "name": "stdout",
     "output_type": "stream",
     "text": [
      "[ 0  0  0  0  0  0  0  0  0  0  0  0  0  0  0  0  0  0  0  0  0  0  0  0\n",
      "  0  0  0  0  0  0  0  0  0  0  0  0  0  0  0  0  0  0  0  0  0  0  0  0\n",
      "  0  0  0  0  0  0  0  0  0  0  0  0  0  0 35 40 27 28 40 22 83 31 85 45\n",
      " 24 23 31 70 31 76 30 98 32 22 28 51 75 56 30 33 97 53 38 46 53 74 31 35\n",
      " 23 34 22 58]\n"
     ]
    }
   ],
   "source": [
    "print(x_train_seq[0])"
   ]
  },
  {
   "cell_type": "code",
   "execution_count": 14,
   "metadata": {
    "scrolled": true
   },
   "outputs": [],
   "source": [
    "from tensorflow.keras.utils import to_categorical\n",
    "\n",
    "x_train_onehot = to_categorical(x_train_seq)\n",
    "x_val_onehot = to_categorical(x_val_seq)"
   ]
  },
  {
   "cell_type": "code",
   "execution_count": 15,
   "metadata": {
    "scrolled": true
   },
   "outputs": [
    {
     "name": "stdout",
     "output_type": "stream",
     "text": [
      "(20000, 100, 100)\n"
     ]
    }
   ],
   "source": [
    "print(x_train_onehot.shape)"
   ]
  },
  {
   "cell_type": "code",
   "execution_count": 16,
   "metadata": {
    "scrolled": true
   },
   "outputs": [
    {
     "name": "stdout",
     "output_type": "stream",
     "text": [
      "800000000\n"
     ]
    }
   ],
   "source": [
    "print(x_train_onehot.nbytes)"
   ]
  },
  {
   "cell_type": "code",
   "execution_count": 17,
   "metadata": {},
   "outputs": [],
   "source": [
    "import tensorflow as tf"
   ]
  },
  {
   "cell_type": "code",
   "execution_count": 18,
   "metadata": {},
   "outputs": [],
   "source": [
    "class RecurrentNetwork:\n",
    "    \n",
    "    def __init__(self, n_cells=10, batch_size=32, learning_rate=0.1):\n",
    "        self.n_cells = n_cells     # 셀 개수\n",
    "        self.batch_size = batch_size     # 배치 크기\n",
    "        self.w1h = None            # 은닉 상태에 대한 가중치\n",
    "        self.w1x = None            # 입력에 대한 가중치\n",
    "        self.b1 = None             # 순환층의 절편\n",
    "        self.w2 = None             # 출력층의 가중치\n",
    "        self.b2 = None             # 출력층의 절편\n",
    "        self.h = None              # 순환층의 활성화 출력\n",
    "        self.losses = []           # 훈련 손실\n",
    "        self.val_losses = []       # 검증 손실\n",
    "        self.lr = learning_rate    # 학습률\n",
    "\n",
    "    def forpass(self, x):\n",
    "        self.h = [np.zeros((x.shape[0], self.n_cells))]   # 은닉 상태를 초기화합니다.\n",
    "        # 배치 차원과 타임 스텝 차원을 바꿉니다.\n",
    "        seq = np.swapaxes(x, 0, 1)\n",
    "        # 순환 층의 선형 식을 계산합니다.\n",
    "        for x in seq:\n",
    "            z1 = np.dot(x, self.w1x) + np.dot(self.h[-1], self.w1h) + self.b1\n",
    "            h = np.tanh(z1)                    # 활성화 함수를 적용합니다.\n",
    "            self.h.append(h)                   # 역전파를 위해 은닉 상태 저장합니다.\n",
    "            z2 = np.dot(h, self.w2) + self.b2  # 출력층의 선형 식을 계산합니다.\n",
    "        return z2\n",
    "\n",
    "    def backprop(self, x, err):\n",
    "        m = len(x)       # 샘플 개수\n",
    "        \n",
    "        # 출력층의 가중치와 절편에 대한 그래디언트를 계산합니다.\n",
    "        w2_grad = np.dot(self.h[-1].T, err) / m\n",
    "        b2_grad = np.sum(err) / m\n",
    "        # 배치 차원과 타임 스텝 차원을 바꿉니다.\n",
    "        seq = np.swapaxes(x, 0, 1)\n",
    "        \n",
    "        w1h_grad = w1x_grad = b1_grad = 0\n",
    "        # 셀 직전까지 그래디언트를 계산합니다.\n",
    "        err_to_cell = np.dot(err, self.w2.T) * (1 - self.h[-1] ** 2)\n",
    "        # 모든 타임 스텝을 거슬러가면서 그래디언트를 전파합니다.\n",
    "        for x, h in zip(seq[::-1][:10], self.h[:-1][::-1][:10]):\n",
    "            w1h_grad += np.dot(h.T, err_to_cell)\n",
    "            w1x_grad += np.dot(x.T, err_to_cell)\n",
    "            b1_grad += np.sum(err_to_cell, axis=0)\n",
    "            # 이전 타임 스텝의 셀 직전까지 그래디언트를 계산합니다.\n",
    "            err_to_cell = np.dot(err_to_cell, self.w1h) * (1 - h ** 2)\n",
    "        \n",
    "        w1h_grad /= m\n",
    "        w1x_grad /= m\n",
    "        b1_grad /= m\n",
    "    \n",
    "        return w1h_grad, w1x_grad, b1_grad, w2_grad, b2_grad\n",
    "    \n",
    "    def sigmoid(self, z):\n",
    "        z = np.clip(z, -100, None)            # 안전한 np.exp() 계산을 위해\n",
    "        a = 1 / (1 + np.exp(-z))              # 시그모이드 계산\n",
    "        return a\n",
    "    \n",
    "    def init_weights(self, n_features, n_classes):\n",
    "        orth_init = tf.initializers.Orthogonal()\n",
    "        glorot_init = tf.initializers.GlorotUniform()\n",
    "        \n",
    "        self.w1h = orth_init((self.n_cells, self.n_cells)).numpy() # (셀 개수, 셀 개수)\n",
    "        self.w1x = glorot_init((n_features, self.n_cells)).numpy() # (특성 개수, 셀 개수)\n",
    "        self.b1 = np.zeros(self.n_cells)                           # 은닉층의 크기\n",
    "        self.w2 = glorot_init((self.n_cells, n_classes)).numpy()   # (셀 개수, 클래스 개수)\n",
    "        self.b2 = np.zeros(n_classes)\n",
    "        \n",
    "    def fit(self, x, y, epochs=100, x_val=None, y_val=None):\n",
    "        y = y.reshape(-1, 1)\n",
    "        y_val = y_val.reshape(-1, 1)\n",
    "        np.random.seed(42)\n",
    "        self.init_weights(x.shape[2], y.shape[1])    # 은닉층과 출력층의 가중치를 초기화합니다.\n",
    "        # epochs만큼 반복합니다.\n",
    "        for i in range(epochs):\n",
    "            print('에포크', i, end=' ')\n",
    "            # 제너레이터 함수에서 반환한 미니배치를 순환합니다.\n",
    "            batch_losses = []\n",
    "            for x_batch, y_batch in self.gen_batch(x, y):\n",
    "                print('.', end='')\n",
    "                a = self.training(x_batch, y_batch)\n",
    "                # 안전한 로그 계산을 위해 클리핑합니다.\n",
    "                a = np.clip(a, 1e-10, 1-1e-10)\n",
    "                # 로그 손실과 규제 손실을 더하여 리스트에 추가합니다.\n",
    "                loss = np.mean(-(y_batch*np.log(a) + (1-y_batch)*np.log(1-a)))\n",
    "                batch_losses.append(loss)\n",
    "            print()\n",
    "            self.losses.append(np.mean(batch_losses))\n",
    "            # 검증 세트에 대한 손실을 계산합니다.\n",
    "            self.update_val_loss(x_val, y_val)\n",
    "\n",
    "    # 미니배치 제너레이터 함수\n",
    "    def gen_batch(self, x, y):\n",
    "        length = len(x)\n",
    "        bins = length // self.batch_size # 미니배치 횟수\n",
    "        if length % self.batch_size:\n",
    "            bins += 1                    # 나누어 떨어지지 않을 때\n",
    "        indexes = np.random.permutation(np.arange(len(x))) # 인덱스를 섞습니다.\n",
    "        x = x[indexes]\n",
    "        y = y[indexes]\n",
    "        for i in range(bins):\n",
    "            start = self.batch_size * i\n",
    "            end = self.batch_size * (i + 1)\n",
    "            yield x[start:end], y[start:end]   # batch_size만큼 슬라이싱하여 반환합니다.\n",
    "            \n",
    "    def training(self, x, y):\n",
    "        m = len(x)                # 샘플 개수를 저장합니다.\n",
    "        z = self.forpass(x)       # 정방향 계산을 수행합니다.\n",
    "        a = self.sigmoid(z)       # 활성화 함수를 적용합니다.\n",
    "        err = -(y - a)            # 오차를 계산합니다.\n",
    "        # 오차를 역전파하여 그래디언트를 계산합니다.\n",
    "        w1h_grad, w1x_grad, b1_grad, w2_grad, b2_grad = self.backprop(x, err)\n",
    "        # 셀의 가중치와 절편을 업데이트합니다.\n",
    "        self.w1h -= self.lr * w1h_grad\n",
    "        self.w1x -= self.lr * w1x_grad\n",
    "        self.b1 -= self.lr * b1_grad\n",
    "        # 출력층의 가중치와 절편을 업데이트합니다.\n",
    "        self.w2 -= self.lr * w2_grad\n",
    "        self.b2 -= self.lr * b2_grad\n",
    "        return a\n",
    "   \n",
    "    def predict(self, x):\n",
    "        z = self.forpass(x)          # 정방향 계산을 수행합니다.\n",
    "        return z > 0                 # 스텝 함수를 적용합니다.\n",
    "    \n",
    "    def score(self, x, y):\n",
    "        # 예측과 타깃 열 벡터를 비교하여 True의 비율을 반환합니다.\n",
    "        return np.mean(self.predict(x) == y.reshape(-1, 1))\n",
    "\n",
    "    def update_val_loss(self, x_val, y_val):\n",
    "        z = self.forpass(x_val)            # 정방향 계산을 수행합니다.\n",
    "        a = self.sigmoid(z)                # 활성화 함수를 적용합니다.\n",
    "        a = np.clip(a, 1e-10, 1-1e-10)     # 출력 값을 클리핑합니다.\n",
    "        val_loss = np.mean(-(y_val*np.log(a) + (1-y_val)*np.log(1-a)))\n",
    "        self.val_losses.append(val_loss)"
   ]
  },
  {
   "cell_type": "code",
   "execution_count": 19,
   "metadata": {
    "scrolled": true
   },
   "outputs": [
    {
     "name": "stdout",
     "output_type": "stream",
     "text": [
      "에포크 0 .................................................................................................................................................................................................................................................................................................................................................................................................................................................................................................................................................................................................................................................\n",
      "에포크 1 .................................................................................................................................................................................................................................................................................................................................................................................................................................................................................................................................................................................................................................................\n",
      "에포크 2 .................................................................................................................................................................................................................................................................................................................................................................................................................................................................................................................................................................................................................................................\n",
      "에포크 3 .................................................................................................................................................................................................................................................................................................................................................................................................................................................................................................................................................................................................................................................\n",
      "에포크 4 .................................................................................................................................................................................................................................................................................................................................................................................................................................................................................................................................................................................................................................................\n",
      "에포크 5 .................................................................................................................................................................................................................................................................................................................................................................................................................................................................................................................................................................................................................................................\n",
      "에포크 6 .................................................................................................................................................................................................................................................................................................................................................................................................................................................................................................................................................................................................................................................\n",
      "에포크 7 .................................................................................................................................................................................................................................................................................................................................................................................................................................................................................................................................................................................................................................................\n",
      "에포크 8 .................................................................................................................................................................................................................................................................................................................................................................................................................................................................................................................................................................................................................................................\n",
      "에포크 9 .................................................................................................................................................................................................................................................................................................................................................................................................................................................................................................................................................................................................................................................\n",
      "에포크 10 .................................................................................................................................................................................................................................................................................................................................................................................................................................................................................................................................................................................................................................................\n",
      "에포크 11 .................................................................................................................................................................................................................................................................................................................................................................................................................................................................................................................................................................................................................................................\n"
     ]
    },
    {
     "name": "stdout",
     "output_type": "stream",
     "text": [
      "에포크 12 .................................................................................................................................................................................................................................................................................................................................................................................................................................................................................................................................................................................................................................................\n",
      "에포크 13 .................................................................................................................................................................................................................................................................................................................................................................................................................................................................................................................................................................................................................................................\n",
      "에포크 14 .................................................................................................................................................................................................................................................................................................................................................................................................................................................................................................................................................................................................................................................\n",
      "에포크 15 .................................................................................................................................................................................................................................................................................................................................................................................................................................................................................................................................................................................................................................................\n",
      "에포크 16 .................................................................................................................................................................................................................................................................................................................................................................................................................................................................................................................................................................................................................................................\n",
      "에포크 17 .................................................................................................................................................................................................................................................................................................................................................................................................................................................................................................................................................................................................................................................\n",
      "에포크 18 .................................................................................................................................................................................................................................................................................................................................................................................................................................................................................................................................................................................................................................................\n",
      "에포크 19 .................................................................................................................................................................................................................................................................................................................................................................................................................................................................................................................................................................................................................................................\n"
     ]
    }
   ],
   "source": [
    "rn = RecurrentNetwork(n_cells=32, batch_size=32, learning_rate=0.01)\n",
    "\n",
    "rn.fit(x_train_onehot, y_train, epochs=20, x_val=x_val_onehot, y_val=y_val)"
   ]
  },
  {
   "cell_type": "code",
   "execution_count": 20,
   "metadata": {},
   "outputs": [],
   "source": [
    "import matplotlib.pyplot as plt"
   ]
  },
  {
   "cell_type": "code",
   "execution_count": 21,
   "metadata": {},
   "outputs": [
    {
     "data": {
      "image/png": "[encoded data removed]",
      "text/plain": [
       "<Figure size 432x288 with 1 Axes>"
      ]
     },
     "metadata": {
      "needs_background": "light"
     },
     "output_type": "display_data"
    }
   ],
   "source": [
    "plt.plot(rn.losses)\n",
    "plt.plot(rn.val_losses)\n",
    "plt.show()"
   ]
  },
  {
   "cell_type": "code",
   "execution_count": 22,
   "metadata": {
    "scrolled": true
   },
   "outputs": [
    {
     "data": {
      "text/plain": [
       "0.6852"
      ]
     },
     "execution_count": 22,
     "metadata": {},
     "output_type": "execute_result"
    }
   ],
   "source": [
    "rn.score(x_val_onehot, y_val)"
   ]
  },
  {
   "cell_type": "markdown",
   "metadata": {},
   "source": [
    "## 09-3 텐서플로로 순환 신경망을 만듭니다"
   ]
  },
  {
   "cell_type": "code",
   "execution_count": 23,
   "metadata": {},
   "outputs": [],
   "source": [
    "from tensorflow.keras.models import Sequential\n",
    "from tensorflow.keras.layers import Dense, SimpleRNN"
   ]
  },
  {
   "cell_type": "code",
   "execution_count": 24,
   "metadata": {},
   "outputs": [
    {
     "name": "stdout",
     "output_type": "stream",
     "text": [
      "Model: \"sequential\"\n",
      "_________________________________________________________________\n",
      "Layer (type)                 Output Shape              Param #   \n",
      "=================================================================\n",
      "simple_rnn (SimpleRNN)       (None, 32)                4256      \n",
      "_________________________________________________________________\n",
      "dense (Dense)                (None, 1)                 33        \n",
      "=================================================================\n",
      "Total params: 4,289\n",
      "Trainable params: 4,289\n",
      "Non-trainable params: 0\n",
      "_________________________________________________________________\n"
     ]
    }
   ],
   "source": [
    "model = Sequential()\n",
    "\n",
    "model.add(SimpleRNN(32, input_shape=(100, 100)))\n",
    "model.add(Dense(1, activation='sigmoid'))\n",
    "\n",
    "model.summary()"
   ]
  },
  {
   "cell_type": "code",
   "execution_count": 25,
   "metadata": {},
   "outputs": [
    {
     "name": "stdout",
     "output_type": "stream",
     "text": [
      "Epoch 1/20\n",
      "625/625 [==============================] - 36s 56ms/step - loss: 0.7121 - accuracy: 0.4967 - val_loss: 0.6886 - val_accuracy: 0.5480\n",
      "Epoch 2/20\n",
      "625/625 [==============================] - 34s 55ms/step - loss: 0.6844 - accuracy: 0.5585 - val_loss: 0.6705 - val_accuracy: 0.5862\n",
      "Epoch 3/20\n",
      "625/625 [==============================] - 34s 54ms/step - loss: 0.6660 - accuracy: 0.5957 - val_loss: 0.6526 - val_accuracy: 0.6172\n",
      "Epoch 4/20\n",
      "625/625 [==============================] - 34s 55ms/step - loss: 0.6536 - accuracy: 0.6171 - val_loss: 0.6302 - val_accuracy: 0.6470\n",
      "Epoch 5/20\n",
      "625/625 [==============================] - 34s 55ms/step - loss: 0.6319 - accuracy: 0.6435 - val_loss: 0.6274 - val_accuracy: 0.6528\n",
      "Epoch 6/20\n",
      "625/625 [==============================] - 34s 55ms/step - loss: 0.6127 - accuracy: 0.6675 - val_loss: 0.5898 - val_accuracy: 0.6908\n",
      "Epoch 7/20\n",
      "625/625 [==============================] - 34s 55ms/step - loss: 0.6084 - accuracy: 0.6734 - val_loss: 0.5892 - val_accuracy: 0.6890\n",
      "Epoch 8/20\n",
      "625/625 [==============================] - 34s 54ms/step - loss: 0.5979 - accuracy: 0.6825 - val_loss: 0.6134 - val_accuracy: 0.6646\n",
      "Epoch 9/20\n",
      "625/625 [==============================] - 34s 55ms/step - loss: 0.5884 - accuracy: 0.6910 - val_loss: 0.6572 - val_accuracy: 0.6130\n",
      "Epoch 10/20\n",
      "625/625 [==============================] - 34s 54ms/step - loss: 0.5916 - accuracy: 0.6892 - val_loss: 0.5705 - val_accuracy: 0.7102\n",
      "Epoch 11/20\n",
      "625/625 [==============================] - 34s 55ms/step - loss: 0.5834 - accuracy: 0.6993 - val_loss: 0.6396 - val_accuracy: 0.6576\n",
      "Epoch 12/20\n",
      "625/625 [==============================] - 34s 55ms/step - loss: 0.5753 - accuracy: 0.7043 - val_loss: 0.5762 - val_accuracy: 0.6988\n",
      "Epoch 13/20\n",
      "625/625 [==============================] - 34s 54ms/step - loss: 0.5785 - accuracy: 0.7035 - val_loss: 0.5998 - val_accuracy: 0.6788\n",
      "Epoch 14/20\n",
      "625/625 [==============================] - 34s 55ms/step - loss: 0.5766 - accuracy: 0.7028 - val_loss: 0.5673 - val_accuracy: 0.7086\n",
      "Epoch 15/20\n",
      "625/625 [==============================] - 34s 55ms/step - loss: 0.5764 - accuracy: 0.7028 - val_loss: 0.5627 - val_accuracy: 0.7100\n",
      "Epoch 16/20\n",
      "625/625 [==============================] - 34s 55ms/step - loss: 0.5657 - accuracy: 0.7104 - val_loss: 0.5706 - val_accuracy: 0.7032\n",
      "Epoch 17/20\n",
      "625/625 [==============================] - 34s 55ms/step - loss: 0.5682 - accuracy: 0.7080 - val_loss: 0.6535 - val_accuracy: 0.6672\n",
      "Epoch 18/20\n",
      "625/625 [==============================] - 34s 55ms/step - loss: 0.5666 - accuracy: 0.7109 - val_loss: 0.5631 - val_accuracy: 0.7070\n",
      "Epoch 19/20\n",
      "625/625 [==============================] - 34s 55ms/step - loss: 0.5675 - accuracy: 0.7017 - val_loss: 0.6285 - val_accuracy: 0.6892\n",
      "Epoch 20/20\n",
      "625/625 [==============================] - 34s 55ms/step - loss: 0.5652 - accuracy: 0.7060 - val_loss: 0.5821 - val_accuracy: 0.6900\n"
     ]
    }
   ],
   "source": [
    "model.compile(optimizer='sgd', loss='binary_crossentropy', metrics=['accuracy'])\n",
    "\n",
    "history = model.fit(x_train_onehot, y_train, epochs=20, batch_size=32, \n",
    "                    validation_data=(x_val_onehot, y_val))"
   ]
  },
  {
   "cell_type": "code",
   "execution_count": 26,
   "metadata": {},
   "outputs": [
    {
     "data": {
      "image/png": "[encoded data removed]",
      "text/plain": [
       "<Figure size 432x288 with 1 Axes>"
      ]
     },
     "metadata": {
      "needs_background": "light"
     },
     "output_type": "display_data"
    }
   ],
   "source": [
    "plt.plot(history.history['loss'])\n",
    "plt.plot(history.history['val_loss'])\n",
    "plt.show()"
   ]
  },
  {
   "cell_type": "code",
   "execution_count": 27,
   "metadata": {
    "scrolled": false
   },
   "outputs": [
    {
     "data": {
      "image/png": "[encoded data removed]",
      "text/plain": [
       "<Figure size 432x288 with 1 Axes>"
      ]
     },
     "metadata": {
      "needs_background": "light"
     },
     "output_type": "display_data"
    }
   ],
   "source": [
    "plt.plot(history.history['accuracy'])\n",
    "plt.plot(history.history['val_accuracy'])\n",
    "plt.show()"
   ]
  },
  {
   "cell_type": "code",
   "execution_count": 28,
   "metadata": {
    "scrolled": true
   },
   "outputs": [
    {
     "name": "stdout",
     "output_type": "stream",
     "text": [
      "0.6899999976158142\n"
     ]
    }
   ],
   "source": [
    "loss, accuracy = model.evaluate(x_val_onehot, y_val, verbose=0)\n",
    "print(accuracy)"
   ]
  },
  {
   "cell_type": "code",
   "execution_count": 29,
   "metadata": {},
   "outputs": [],
   "source": [
    "from tensorflow.keras.layers import Embedding"
   ]
  },
  {
   "cell_type": "code",
   "execution_count": 30,
   "metadata": {},
   "outputs": [],
   "source": [
    "(x_train_all, y_train_all), (x_test, y_test) = imdb.load_data(skip_top=20, num_words=1000)\n",
    "\n",
    "for i in range(len(x_train_all)):\n",
    "    x_train_all[i] = [w for w in x_train_all[i] if w > 2]\n",
    "    \n",
    "x_train = x_train_all[random_index[:20000]]\n",
    "y_train = y_train_all[random_index[:20000]]\n",
    "x_val = x_train_all[random_index[20000:]]\n",
    "y_val = y_train_all[random_index[20000:]]"
   ]
  },
  {
   "cell_type": "code",
   "execution_count": 31,
   "metadata": {},
   "outputs": [],
   "source": [
    "maxlen=100\n",
    "x_train_seq = sequence.pad_sequences(x_train, maxlen=maxlen)\n",
    "x_val_seq = sequence.pad_sequences(x_val, maxlen=maxlen)"
   ]
  },
  {
   "cell_type": "code",
   "execution_count": 32,
   "metadata": {
    "scrolled": true
   },
   "outputs": [
    {
     "name": "stdout",
     "output_type": "stream",
     "text": [
      "Model: \"sequential_1\"\n",
      "_________________________________________________________________\n",
      "Layer (type)                 Output Shape              Param #   \n",
      "=================================================================\n",
      "embedding (Embedding)        (None, None, 32)          32000     \n",
      "_________________________________________________________________\n",
      "simple_rnn_1 (SimpleRNN)     (None, 8)                 328       \n",
      "_________________________________________________________________\n",
      "dense_1 (Dense)              (None, 1)                 9         \n",
      "=================================================================\n",
      "Total params: 32,337\n",
      "Trainable params: 32,337\n",
      "Non-trainable params: 0\n",
      "_________________________________________________________________\n"
     ]
    }
   ],
   "source": [
    "model_ebd = Sequential()\n",
    "\n",
    "model_ebd.add(Embedding(1000, 32))\n",
    "model_ebd.add(SimpleRNN(8))\n",
    "model_ebd.add(Dense(1, activation='sigmoid'))\n",
    "\n",
    "model_ebd.summary()"
   ]
  },
  {
   "cell_type": "code",
   "execution_count": 33,
   "metadata": {
    "scrolled": true
   },
   "outputs": [
    {
     "name": "stdout",
     "output_type": "stream",
     "text": [
      "Epoch 1/10\n",
      "625/625 [==============================] - 40s 64ms/step - loss: 0.6893 - accuracy: 0.5301 - val_loss: 0.6481 - val_accuracy: 0.6130\n",
      "Epoch 2/10\n",
      "625/625 [==============================] - 40s 63ms/step - loss: 0.5612 - accuracy: 0.7213 - val_loss: 0.4761 - val_accuracy: 0.7846\n",
      "Epoch 3/10\n",
      "625/625 [==============================] - 39s 63ms/step - loss: 0.4027 - accuracy: 0.8279 - val_loss: 0.4553 - val_accuracy: 0.7910\n",
      "Epoch 4/10\n",
      "625/625 [==============================] - 39s 63ms/step - loss: 0.3608 - accuracy: 0.8483 - val_loss: 0.4387 - val_accuracy: 0.8094\n",
      "Epoch 5/10\n",
      "625/625 [==============================] - 39s 63ms/step - loss: 0.3158 - accuracy: 0.8736 - val_loss: 0.4404 - val_accuracy: 0.8122\n",
      "Epoch 6/10\n",
      "625/625 [==============================] - 39s 63ms/step - loss: 0.2868 - accuracy: 0.8869 - val_loss: 0.4746 - val_accuracy: 0.7884\n",
      "Epoch 7/10\n",
      "625/625 [==============================] - 39s 63ms/step - loss: 0.2704 - accuracy: 0.8950 - val_loss: 0.4809 - val_accuracy: 0.7974\n",
      "Epoch 8/10\n",
      "625/625 [==============================] - 39s 62ms/step - loss: 0.2512 - accuracy: 0.9080 - val_loss: 0.5019 - val_accuracy: 0.7946\n",
      "Epoch 9/10\n",
      "625/625 [==============================] - 39s 62ms/step - loss: 0.2401 - accuracy: 0.9105 - val_loss: 0.5088 - val_accuracy: 0.8032\n",
      "Epoch 10/10\n",
      "625/625 [==============================] - 39s 63ms/step - loss: 0.2301 - accuracy: 0.9174 - val_loss: 0.5065 - val_accuracy: 0.8056\n"
     ]
    }
   ],
   "source": [
    "model_ebd.compile(optimizer='adam', loss='binary_crossentropy', metrics=['accuracy'])\n",
    "\n",
    "history = model_ebd.fit(x_train_seq, y_train, epochs=10, batch_size=32, \n",
    "                        validation_data=(x_val_seq, y_val))"
   ]
  },
  {
   "cell_type": "code",
   "execution_count": 34,
   "metadata": {},
   "outputs": [
    {
     "data": {
      "image/png": "[encoded data removed]",
      "text/plain": [
       "<Figure size 432x288 with 1 Axes>"
      ]
     },
     "metadata": {
      "needs_background": "light"
     },
     "output_type": "display_data"
    }
   ],
   "source": [
    "plt.plot(history.history['loss'])\n",
    "plt.plot(history.history['val_loss'])\n",
    "plt.show()"
   ]
  },
  {
   "cell_type": "code",
   "execution_count": 35,
   "metadata": {
    "scrolled": true
   },
   "outputs": [
    {
     "data": {
      "image/png": "[encoded data removed]",
      "text/plain": [
       "<Figure size 432x288 with 1 Axes>"
      ]
     },
     "metadata": {
      "needs_background": "light"
     },
     "output_type": "display_data"
    }
   ],
   "source": [
    "plt.plot(history.history['accuracy'])\n",
    "plt.plot(history.history['val_accuracy'])\n",
    "plt.show()"
   ]
  },
  {
   "cell_type": "code",
   "execution_count": 36,
   "metadata": {
    "scrolled": false
   },
   "outputs": [
    {
     "name": "stdout",
     "output_type": "stream",
     "text": [
      "0.8055999875068665\n"
     ]
    }
   ],
   "source": [
    "loss, accuracy = model_ebd.evaluate(x_val_seq, y_val, verbose=0)\n",
    "print(accuracy)"
   ]
  },
  {
   "cell_type": "markdown",
   "metadata": {},
   "source": [
    "## 09-4 LSTM 순환 신경망으로 텍스트를 분류합니다"
   ]
  },
  {
   "cell_type": "code",
   "execution_count": 37,
   "metadata": {},
   "outputs": [],
   "source": [
    "from tensorflow.keras.layers import LSTM"
   ]
  },
  {
   "cell_type": "code",
   "execution_count": 38,
   "metadata": {},
   "outputs": [
    {
     "name": "stdout",
     "output_type": "stream",
     "text": [
      "Model: \"sequential_2\"\n",
      "_________________________________________________________________\n",
      "Layer (type)                 Output Shape              Param #   \n",
      "=================================================================\n",
      "embedding_1 (Embedding)      (None, None, 32)          32000     \n",
      "_________________________________________________________________\n",
      "lstm (LSTM)                  (None, 8)                 1312      \n",
      "_________________________________________________________________\n",
      "dense_2 (Dense)              (None, 1)                 9         \n",
      "=================================================================\n",
      "Total params: 33,321\n",
      "Trainable params: 33,321\n",
      "Non-trainable params: 0\n",
      "_________________________________________________________________\n"
     ]
    }
   ],
   "source": [
    "model_lstm = Sequential()\n",
    "\n",
    "model_lstm.add(Embedding(1000, 32))\n",
    "model_lstm.add(LSTM(8))\n",
    "model_lstm.add(Dense(1, activation='sigmoid'))\n",
    "\n",
    "model_lstm.summary()"
   ]
  },
  {
   "cell_type": "code",
   "execution_count": 39,
   "metadata": {
    "scrolled": true
   },
   "outputs": [
    {
     "name": "stdout",
     "output_type": "stream",
     "text": [
      "Epoch 1/10\n",
      "625/625 [==============================] - 14s 17ms/step - loss: 0.5492 - accuracy: 0.7001 - val_loss: 0.3727 - val_accuracy: 0.8404\n",
      "Epoch 2/10\n",
      "625/625 [==============================] - 10s 16ms/step - loss: 0.3376 - accuracy: 0.8605 - val_loss: 0.3580 - val_accuracy: 0.8432\n",
      "Epoch 3/10\n",
      "625/625 [==============================] - 10s 16ms/step - loss: 0.3074 - accuracy: 0.8731 - val_loss: 0.3619 - val_accuracy: 0.8372\n",
      "Epoch 4/10\n",
      "625/625 [==============================] - 10s 16ms/step - loss: 0.2882 - accuracy: 0.8796 - val_loss: 0.3637 - val_accuracy: 0.8390\n",
      "Epoch 5/10\n",
      "625/625 [==============================] - 10s 16ms/step - loss: 0.2762 - accuracy: 0.8881 - val_loss: 0.3811 - val_accuracy: 0.8362\n",
      "Epoch 6/10\n",
      "625/625 [==============================] - 10s 16ms/step - loss: 0.2616 - accuracy: 0.8933 - val_loss: 0.3705 - val_accuracy: 0.8382\n",
      "Epoch 7/10\n",
      "625/625 [==============================] - 10s 16ms/step - loss: 0.2480 - accuracy: 0.8979 - val_loss: 0.3951 - val_accuracy: 0.8366\n",
      "Epoch 8/10\n",
      "625/625 [==============================] - 10s 16ms/step - loss: 0.2379 - accuracy: 0.9010 - val_loss: 0.4040 - val_accuracy: 0.8330\n",
      "Epoch 9/10\n",
      "625/625 [==============================] - 10s 16ms/step - loss: 0.2292 - accuracy: 0.9075 - val_loss: 0.4027 - val_accuracy: 0.8350\n",
      "Epoch 10/10\n",
      "625/625 [==============================] - 10s 16ms/step - loss: 0.2260 - accuracy: 0.9100 - val_loss: 0.4109 - val_accuracy: 0.8304\n"
     ]
    }
   ],
   "source": [
    "model_lstm.compile(optimizer='adam', loss='binary_crossentropy', metrics=['accuracy'])\n",
    "\n",
    "history = model_lstm.fit(x_train_seq, y_train, epochs=10, batch_size=32, \n",
    "                         validation_data=(x_val_seq, y_val))"
   ]
  },
  {
   "cell_type": "code",
   "execution_count": 40,
   "metadata": {},
   "outputs": [
    {
     "data": {
      "image/png": "[encoded data removed]",
      "text/plain": [
       "<Figure size 432x288 with 1 Axes>"
      ]
     },
     "metadata": {
      "needs_background": "light"
     },
     "output_type": "display_data"
    }
   ],
   "source": [
    "plt.plot(history.history['loss'])\n",
    "plt.plot(history.history['val_loss'])\n",
    "plt.show()"
   ]
  },
  {
   "cell_type": "code",
   "execution_count": 41,
   "metadata": {
    "scrolled": false
   },
   "outputs": [
    {
     "data": {
      "image/png": "[encoded data removed]",
      "text/plain": [
       "<Figure size 432x288 with 1 Axes>"
      ]
     },
     "metadata": {
      "needs_background": "light"
     },
     "output_type": "display_data"
    }
   ],
   "source": [
    "plt.plot(history.history['accuracy'])\n",
    "plt.plot(history.history['val_accuracy'])\n",
    "plt.show()"
   ]
  },
  {
   "cell_type": "code",
   "execution_count": 42,
   "metadata": {
    "scrolled": false
   },
   "outputs": [
    {
     "name": "stdout",
     "output_type": "stream",
     "text": [
      "0.8303999900817871\n"
     ]
    }
   ],
   "source": [
    "loss, accuracy = model_lstm.evaluate(x_val_seq, y_val, verbose=0)\n",
    "print(accuracy)"
   ]
  }
 ],
 "metadata": {
  "kernelspec": {
   "display_name": "TensorFlow 2.4 on Python 3.8 & CUDA 11.1",
   "language": "python",
   "name": "python3"
  },
  "language_info": {
   "codemirror_mode": {
    "name": "ipython",
    "version": 3
   },
   "file_extension": ".py",
   "mimetype": "text/x-python",
   "name": "python",
   "nbconvert_exporter": "python",
   "pygments_lexer": "ipython3",
   "version": "3.8.7"
  }
 },
 "nbformat": 4,
 "nbformat_minor": 2
}
