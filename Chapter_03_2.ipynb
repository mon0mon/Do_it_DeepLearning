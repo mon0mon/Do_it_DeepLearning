{
  "nbformat": 4,
  "nbformat_minor": 0,
  "metadata": {
    "colab": {
      "name": "Untitled1.ipynb",
      "provenance": [],
      "authorship_tag": "ABX9TyMMT6tKmswwimDmUF6TKqoq",
      "include_colab_link": true
    },
    "kernelspec": {
      "name": "python3",
      "display_name": "Python 3"
    },
    "language_info": {
      "name": "python"
    }
  },
  "cells": [
    {
      "cell_type": "markdown",
      "metadata": {
        "id": "view-in-github",
        "colab_type": "text"
      },
      "source": [
        "<a href=\"https://colab.research.google.com/github/mon0mon/Do_it_DeepLearning/blob/main/Chapter_03_2.ipynb\" target=\"_parent\"><img src=\"https://colab.research.google.com/assets/colab-badge.svg\" alt=\"Open In Colab\"/></a>"
      ]
    },
    {
      "cell_type": "code",
      "metadata": {
        "id": "cyUQoJRalRR5"
      },
      "source": [
        "from sklearn.datasets import load_diabetes\n",
        "diabetes = load_diabetes()"
      ],
      "execution_count": 1,
      "outputs": []
    },
    {
      "cell_type": "code",
      "metadata": {
        "colab": {
          "base_uri": "https://localhost:8080/"
        },
        "id": "CFwezYJpl3ZA",
        "outputId": "adbb5911-94fd-4407-9836-2cbd5beae725"
      },
      "source": [
        "print(diabetes.data.shape, diabetes.target.shape)"
      ],
      "execution_count": 3,
      "outputs": [
        {
          "output_type": "stream",
          "text": [
            "(442, 10) (442,)\n"
          ],
          "name": "stdout"
        }
      ]
    },
    {
      "cell_type": "code",
      "metadata": {
        "colab": {
          "base_uri": "https://localhost:8080/"
        },
        "id": "g3r4GnwnmB_e",
        "outputId": "9c85d7c9-a269-4f14-9683-405506213952"
      },
      "source": [
        "diabetes.data[0:3]"
      ],
      "execution_count": 9,
      "outputs": [
        {
          "output_type": "execute_result",
          "data": {
            "text/plain": [
              "array([[ 0.03807591,  0.05068012,  0.06169621,  0.02187235, -0.0442235 ,\n",
              "        -0.03482076, -0.04340085, -0.00259226,  0.01990842, -0.01764613],\n",
              "       [-0.00188202, -0.04464164, -0.05147406, -0.02632783, -0.00844872,\n",
              "        -0.01916334,  0.07441156, -0.03949338, -0.06832974, -0.09220405],\n",
              "       [ 0.08529891,  0.05068012,  0.04445121, -0.00567061, -0.04559945,\n",
              "        -0.03419447, -0.03235593, -0.00259226,  0.00286377, -0.02593034]])"
            ]
          },
          "metadata": {
            "tags": []
          },
          "execution_count": 9
        }
      ]
    },
    {
      "cell_type": "code",
      "metadata": {
        "colab": {
          "base_uri": "https://localhost:8080/"
        },
        "id": "xDPQCvV1mJeK",
        "outputId": "c0be1ff6-3376-44df-a17d-042968ddb2e5"
      },
      "source": [
        "diabetes.target[:3]"
      ],
      "execution_count": 15,
      "outputs": [
        {
          "output_type": "execute_result",
          "data": {
            "text/plain": [
              "array([151.,  75., 141.])"
            ]
          },
          "metadata": {
            "tags": []
          },
          "execution_count": 15
        }
      ]
    },
    {
      "cell_type": "code",
      "metadata": {
        "colab": {
          "base_uri": "https://localhost:8080/",
          "height": 295
        },
        "id": "yRQavzkkmPym",
        "outputId": "135682d3-31f1-46a0-8efc-6fa1b7705f4b"
      },
      "source": [
        "import matplotlib.pyplot as plt\n",
        "plt.scatter(diabetes.data[:, 2], diabetes.target)\n",
        "plt.title(\"diabetes data visualization\")\n",
        "plt.xlabel('x')\n",
        "plt.ylabel('y')\n",
        "plt.show()"
      ],
      "execution_count": 18,
      "outputs": [
        {
          "output_type": "display_data",
          "data": {
            "image/png": "[encoded data removed]",
            "text/plain": [
              "<Figure size 432x288 with 1 Axes>"
            ]
          },
          "metadata": {
            "tags": [],
            "needs_background": "light"
          }
        }
      ]
    },
    {
      "cell_type": "code",
      "metadata": {
        "id": "5cMz4VZInMbG"
      },
      "source": [
        "x = diabetes.data[:, 2]\n",
        "y = diabetes.target"
      ],
      "execution_count": 16,
      "outputs": []
    },
    {
      "cell_type": "markdown",
      "metadata": {
        "id": "mvqUmvMQprAB"
      },
      "source": [
        "03-2 경사 하강법(Gradient Descent)\n",
        "\n",
        "\n",
        "---\n",
        "ŷ = wx+b\n",
        "\n",
        ": 기존의 값을 통해, 예측하는 y 값으로, ŷ(y-hat)과 w(weigth) 또는 θ(Theta)로 표기, b(intersect)로 구성됨\n",
        "\n",
        "※ w와 b를 찾기 위한 방법\n",
        "\n",
        "\n",
        "> ① 무작위로 w와 b를 정함\n",
        "\n",
        "> ② x에서 샘플 하나를 선택하여 ŷ를 계산\n",
        "\n",
        "> ③ ŷ과 선택한 샘플의 진짜 y값을 비교\n",
        "\n",
        "> ④ ŷ이 y과 근접한 값이 되도록 w, b를 조정\n",
        "\n",
        "> ⑤ 모든 샘플을 처리 할 때까지 ② ~ ④ 항목 반복 시행\n",
        "\n"
      ]
    },
    {
      "cell_type": "code",
      "metadata": {
        "id": "aClq1mjTpltb"
      },
      "source": [
        "# 훈련 데이터에 맞는 w와 b 찾아보기\n",
        "# 1) w와 b 초기화\n",
        "\n",
        "w = 1.0\n",
        "b = 1.0"
      ],
      "execution_count": 19,
      "outputs": []
    },
    {
      "cell_type": "code",
      "metadata": {
        "colab": {
          "base_uri": "https://localhost:8080/"
        },
        "id": "zek1bGT2sWuA",
        "outputId": "2d599b6a-7a08-4bfe-d222-7c61a7e72336"
      },
      "source": [
        "# 2) 훈련데이터의 첫 번째 샘플 데이터로 ŷ 얻기\n",
        "\n",
        "y_hat = x[0] * w + b\n",
        "print(y_hat)\n",
        "print('{} : {}'.format('x', x[0]))"
      ],
      "execution_count": 29,
      "outputs": [
        {
          "output_type": "stream",
          "text": [
            "1.0616962065186886\n",
            "x : 0.0616962065186885\n"
          ],
          "name": "stdout"
        }
      ]
    },
    {
      "cell_type": "code",
      "metadata": {
        "colab": {
          "base_uri": "https://localhost:8080/"
        },
        "id": "MI6n4DJzwfRd",
        "outputId": "5dd4c532-5c27-4de9-8d10-ad2a9bdb3760"
      },
      "source": [
        "# 3) 타깃과 예측 데이터 비교하기\n",
        "print('ŷ : {}'.format(y_hat))\n",
        "print('y : {}'.format(y[0]))\n",
        "print('diffrernce : {}'.format(abs(y_hat-y[0])))"
      ],
      "execution_count": 38,
      "outputs": [
        {
          "output_type": "stream",
          "text": [
            "ŷ : 1.0616962065186886\n",
            "y : 151.0\n",
            "diffrernce : 149.9383037934813\n"
          ],
          "name": "stdout"
        }
      ]
    },
    {
      "cell_type": "code",
      "metadata": {
        "colab": {
          "base_uri": "https://localhost:8080/"
        },
        "id": "vVIZJRosxEcw",
        "outputId": "cea3005b-a251-41f7-a3c5-8afd5a25f7dd"
      },
      "source": [
        "# 4) w 값 조절해 예측값 바꾸기\n",
        "w_inc = w + 0.1;\n",
        "y_hat_inc = x[0] * w_inc + b\n",
        "print('ŷ : {}'.format(y_hat))\n",
        "print('ŷ_inc : {}'.format(y_hat_inc))\n",
        "print('diffrernce : {}'.format(abs(y_hat-y_hat_inc)))"
      ],
      "execution_count": 42,
      "outputs": [
        {
          "output_type": "stream",
          "text": [
            "ŷ : 1.0616962065186886\n",
            "ŷ_inc : 1.0678658271705574\n",
            "diffrernce : 0.006169620651868879\n"
          ],
          "name": "stdout"
        }
      ]
    },
    {
      "cell_type": "code",
      "metadata": {
        "colab": {
          "base_uri": "https://localhost:8080/"
        },
        "id": "Af2Cmj2TyYXw",
        "outputId": "8b706fda-21b0-4482-dee8-ff0756410a11"
      },
      "source": [
        "# 5) w 값 조정 후 예측값 증가 정도 확인\n",
        "w_rate = (y_hat_inc - y_hat) / (w_inc - w)\n",
        "print(w_rate)"
      ],
      "execution_count": 43,
      "outputs": [
        {
          "output_type": "stream",
          "text": [
            "0.061696206518688734\n"
          ],
          "name": "stdout"
        }
      ]
    },
    {
      "cell_type": "markdown",
      "metadata": {
        "id": "8TfjyvC4ytiX"
      },
      "source": [
        "※ w_rate = y_hat_inc - y_hat / w_inc - w = (x[0] * w_inc + b) - (x[0] * w + b) / w_inc - w = (x[0] * (w + 1) - w) / (w + 0.1) - w = x[0]\n",
        "\n"
      ]
    },
    {
      "cell_type": "markdown",
      "metadata": {
        "id": "GodOW5cG0UlE"
      },
      "source": [
        "변화율이 양수일 때 가중치를 업데이트 하는 방법\n",
        "\n",
        "![화면 캡처 2021-03-25 142137.png](data:image/png;base64,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)\n",
        "\n",
        "* x 축 = w, y축은 ŷ\n",
        "\n",
        "* w가 증가함에 따라, ŷ도 증가\n",
        "\n",
        "* 따라서 변화율을 w에 더하는 방법으로 w를 증가시길 수 있음\n",
        "\n",
        "\n",
        "\n",
        "---\n",
        "\n",
        "변화율이 음수일 때 가중치를 업데이트 하는 방법\n",
        "\n",
        "\n",
        "\n",
        "![image.png](data:image/png;base64,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)\n",
        "\n",
        "\n",
        "* x 축은 w, y축은 ŷ\n",
        "\n",
        "* w가 증가함에 따라 ŷ은 감소\n",
        "\n",
        "* 따라서 변화율을 w에 더하는 방법으로 w를 감소 시킬 수 있음\n"
      ]
    },
    {
      "cell_type": "code",
      "metadata": {
        "colab": {
          "base_uri": "https://localhost:8080/"
        },
        "id": "UuO67o8v3EFz",
        "outputId": "865ef26f-4b57-4534-a2be-a6ad9c57d868"
      },
      "source": [
        "# 변화율로 가중치 업데이트\n",
        "w_new = w + w_rate\n",
        "print('w_new(업데이트 된 가중치) : {}'.format(w_new))"
      ],
      "execution_count": 45,
      "outputs": [
        {
          "output_type": "stream",
          "text": [
            "w_new(업데이트 된 가중치) : 1.0616962065186888\n"
          ],
          "name": "stdout"
        }
      ]
    },
    {
      "cell_type": "code",
      "metadata": {
        "colab": {
          "base_uri": "https://localhost:8080/"
        },
        "id": "vEH-ykJP3VDB",
        "outputId": "420e081d-7f32-4652-f930-9c8725d1685a"
      },
      "source": [
        "# 변화율로 절편 업데이트\n",
        "b_inc = b + 0.1\n",
        "y_hat_inc = x[0] * w + b_inc\n",
        "print('y_hat_inc : {}'.format(y_hat_inc))\n",
        "print('y_hat : {}'.format(y_hat))\n",
        "\n",
        "b_rate = (y_hat_inc - y_hat) / (b_inc - b)\n",
        "print('b_rate : {}'.format(b_rate))\n",
        "\n",
        "# b를 업데이트 하기 위해서는 변화율이 1이므로, 1 만큼 더하면 됨\n",
        "b_new = b + 1\n",
        "print('b_new : {}'.format(b_new))"
      ],
      "execution_count": 49,
      "outputs": [
        {
          "output_type": "stream",
          "text": [
            "y_hat_inc : 1.1616962065186887\n",
            "y_hat : 1.0616962065186886\n",
            "b_rate : 1.0\n",
            "b_new : 2.0\n"
          ],
          "name": "stdout"
        }
      ]
    },
    {
      "cell_type": "markdown",
      "metadata": {
        "id": "cTM1RlpC42vY"
      },
      "source": [
        "오차 역전파로 가중치와 절편을 더 적절하게 업데이트\n",
        "\n",
        "오차 역전파(Backpropagation)은 ŷ와 y의 차이를 이용하여 w와 b를 업데이트\n",
        "- 오차가 연이어 전파되며, 수행\n",
        "\n"
      ]
    },
    {
      "cell_type": "code",
      "metadata": {
        "colab": {
          "base_uri": "https://localhost:8080/"
        },
        "id": "8dn3hC0F5Byq",
        "outputId": "5e2048ed-0966-4ebe-d448-aca4cfe6bb46"
      },
      "source": [
        "# 오차의 변화율을 곱하여 가중치 업데이트\n",
        "# 1) x[0] 일 때, w의 변화율과 b의 변화율에 오차를 곱한 다음 w, b 업데이트 후 출력\n",
        "\n",
        "err = y[0] - y_hat\n",
        "w_new = w+ w_rate * err\n",
        "b_new = b + 1 * err\n",
        "print('w_new : {}, b_new : {}'.format(w_new, b_new))"
      ],
      "execution_count": 50,
      "outputs": [
        {
          "output_type": "stream",
          "text": [
            "w_new : 10.250624555904514, b_new : 150.9383037934813\n"
          ],
          "name": "stdout"
        }
      ]
    },
    {
      "cell_type": "code",
      "metadata": {
        "colab": {
          "base_uri": "https://localhost:8080/"
        },
        "id": "Y9RPbi5a5ipS",
        "outputId": "bc9d63a1-a09d-4eea-8bff-ed5c031165c8"
      },
      "source": [
        "# 2) x[1] 일 때, 오차를 구하고 w, b 업데이트 후 출력\n",
        "\n",
        "y_hat = x[1] * w_new + b_new\n",
        "err = y[1] - y_hat\n",
        "w_rate = x[1]\n",
        "w_new = w_new + w_new * err\n",
        "b_new = b_new + 1 * err\n",
        "print('w_new : {}, b_new : {}'.format(w_new, b_new))\n",
        "\n",
        "# 위와 같은 방식을 모든 샘플에 사용해서, 가중치와 절편 업데이트"
      ],
      "execution_count": 51,
      "outputs": [
        {
          "output_type": "stream",
          "text": [
            "w_new : -762.7557644215193, b_new : 75.52764127612664\n"
          ],
          "name": "stdout"
        }
      ]
    },
    {
      "cell_type": "code",
      "metadata": {
        "colab": {
          "base_uri": "https://localhost:8080/"
        },
        "id": "Q9Eeniw26nsi",
        "outputId": "50557861-2712-489b-df64-6fed08ab40b0"
      },
      "source": [
        "# 3) 전체 샘플 반복하기\n",
        "\n",
        "for x_i, y_i in zip(x, y):\n",
        "  y_hat = x_i * w + b\n",
        "  err = y_i - y_hat\n",
        "  w_rate = x_i\n",
        "  w = w + w_rate * err\n",
        "  b = b + 1 * err\n",
        "print('w : {}, b : {}'.format(w, b))"
      ],
      "execution_count": 52,
      "outputs": [
        {
          "output_type": "stream",
          "text": [
            "w : 587.8654539985689, b : 99.40935564531424\n"
          ],
          "name": "stdout"
        }
      ]
    },
    {
      "cell_type": "code",
      "metadata": {
        "colab": {
          "base_uri": "https://localhost:8080/",
          "height": 279
        },
        "id": "fCl8usZj7Dt0",
        "outputId": "25717fe6-201f-42a5-f606-f79210cc6f40"
      },
      "source": [
        "# 4) 모델 테스트\n",
        "\n",
        "plt.scatter(x, y)\n",
        "pt1 = (-0.1, -0.1 * w + b)\n",
        "pt2 = (0.15, 0.15 * w + b)\n",
        "plt.plot([pt1[0], pt2[0]], [pt1[1], pt2[1]])\n",
        "plt.xlabel('x')\n",
        "plt.xlabel('y')\n",
        "plt.show()"
      ],
      "execution_count": 54,
      "outputs": [
        {
          "output_type": "display_data",
          "data": {
            "image/png": "[encoded data removed]",
            "text/plain": [
              "<Figure size 432x288 with 1 Axes>"
            ]
          },
          "metadata": {
            "tags": [],
            "needs_background": "light"
          }
        }
      ]
    },
    {
      "cell_type": "code",
      "metadata": {
        "colab": {
          "base_uri": "https://localhost:8080/"
        },
        "id": "Nabkhd0376G6",
        "outputId": "8ecfaf20-bb30-4745-cfe6-9ae847c85c98"
      },
      "source": [
        "# 5) 여러 에포크 반복\n",
        "# 에포크(epoch) : 전체 데이터를 모두 이용하여 한 단위의 작업을 진행하는 것\n",
        "# 예제에선 100번의 에포크를 진행하면서, 직선이 변동사항을 체크\n",
        "\n",
        "for i in range(1, 100):\n",
        "  for x_i, y_i in zip(x, y):\n",
        "    y_hat = x_i * w + b\n",
        "    err = y_i - y_hat\n",
        "    w_rate = x_i\n",
        "    w = w + w_rate * err\n",
        "    b = b + 1 * err\n",
        "print('w : {}, b : {}'.format(w, b))"
      ],
      "execution_count": 55,
      "outputs": [
        {
          "output_type": "stream",
          "text": [
            "w : 913.5973364345905, b : 123.39414383177204\n"
          ],
          "name": "stdout"
        }
      ]
    },
    {
      "cell_type": "code",
      "metadata": {
        "colab": {
          "base_uri": "https://localhost:8080/",
          "height": 279
        },
        "id": "VUZnX0TJ8lsi",
        "outputId": "48ed42c7-0e85-4d44-e253-780628ebcaca"
      },
      "source": [
        "plt.scatter(x, y)\n",
        "pt1 = (-0.1, -0.1 * w + b)\n",
        "pt2 = (0.15, 0.15 * w + b)\n",
        "plt.plot([pt1[0], pt2[0]], [pt1[1], pt2[1]])\n",
        "plt.xlabel('x')\n",
        "plt.ylabel('y')\n",
        "plt.show()\n",
        "\n",
        "# 적절한 수준의 머신 러닝 모델 발견"
      ],
      "execution_count": 56,
      "outputs": [
        {
          "output_type": "display_data",
          "data": {
            "image/png": "[encoded data removed]",
            "text/plain": [
              "<Figure size 432x288 with 1 Axes>"
            ]
          },
          "metadata": {
            "tags": [],
            "needs_background": "light"
          }
        }
      ]
    },
    {
      "cell_type": "code",
      "metadata": {
        "colab": {
          "base_uri": "https://localhost:8080/",
          "height": 296
        },
        "id": "3J278bJX8-Uo",
        "outputId": "07ae4621-a766-4516-cca0-fe0b7e2f5181"
      },
      "source": [
        "# 6) 모델로 예측\n",
        "\n",
        "x_new = 0.18\n",
        "y_pred = x_new * w + b\n",
        "print('y_pred : {}'.format(y_pred))\n",
        "\n",
        "plt.scatter(x, y)\n",
        "plt.scatter(x_new, y_pred)\n",
        "plt.xlabel('x')\n",
        "plt.ylabel('y')\n",
        "plt.show()"
      ],
      "execution_count": 58,
      "outputs": [
        {
          "output_type": "stream",
          "text": [
            "y_pred : 287.8416643899983\n"
          ],
          "name": "stdout"
        },
        {
          "output_type": "display_data",
          "data": {
            "image/png": "[encoded data removed]",
            "text/plain": [
              "<Figure size 432x288 with 1 Axes>"
            ]
          },
          "metadata": {
            "tags": [],
            "needs_background": "light"
          }
        }
      ]
    },
    {
      "cell_type": "markdown",
      "metadata": {
        "id": "5cLFsdIg9hly"
      },
      "source": [
        "복습\n",
        "\n",
        "\n",
        "> 1.   w와 b를 임의의 값(1.0, 1.0)으로 초기화 하고 훈련 데이터의 샘플을 대입하여 y와 ŷ의 오차를 구함\n",
        "> 2.   1에서 구한 오차를 w와 b의 변화율에 곱하고 이 값을 이용하여 w와 b를 업데이트\n",
        "> 3.   만약 ŷ이 y보다 커지면, 오차는 음수가 되어 자동으로 w와 b가 줄어드는 방향으로 업데이트\n",
        "> 4.   반대로 ŷ이 y보다 작으면, 오차는 양수가 되어 w와 b가 더 커지도록 업데이트\n",
        "\n",
        "\n"
      ]
    }
  ]
}