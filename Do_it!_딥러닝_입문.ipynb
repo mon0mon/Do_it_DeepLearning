{
  "nbformat": 4,
  "nbformat_minor": 0,
  "metadata": {
    "colab": {
      "name": "Do it! 딥러닝 입문",
      "provenance": [],
      "authorship_tag": "ABX9TyOUJJoMYbEjqdZ7+xMUOvLQ",
      "include_colab_link": true
    },
    "kernelspec": {
      "name": "python3",
      "display_name": "Python 3"
    }
  },
  "cells": [
    {
      "cell_type": "markdown",
      "metadata": {
        "id": "view-in-github",
        "colab_type": "text"
      },
      "source": [
        "<a href=\"https://colab.research.google.com/github/mon0mon/Do_it_DeepLearning/blob/main/Do_it!_%EB%94%A5%EB%9F%AC%EB%8B%9D_%EC%9E%85%EB%AC%B8.ipynb\" target=\"_parent\"><img src=\"https://colab.research.google.com/assets/colab-badge.svg\" alt=\"Open In Colab\"/></a>"
      ]
    },
    {
      "cell_type": "markdown",
      "metadata": {
        "id": "6jNsYG5fxiFJ"
      },
      "source": [
        "Do it 딥러닝"
      ]
    },
    {
      "cell_type": "code",
      "metadata": {
        "colab": {
          "base_uri": "https://localhost:8080/"
        },
        "id": "lFnvK2vBxqRq",
        "outputId": "56a0548f-f6f0-441a-a2a2-19560c47b671"
      },
      "source": [
        "print(\"Hello, Do it 딥러닝\")"
      ],
      "execution_count": 1,
      "outputs": [
        {
          "output_type": "stream",
          "text": [
            "Hello, Do it 딥러닝\n"
          ],
          "name": "stdout"
        }
      ]
    }
  ]
}